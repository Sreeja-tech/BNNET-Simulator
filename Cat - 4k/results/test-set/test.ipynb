{
 "cells": [
  {
   "cell_type": "code",
   "execution_count": 10,
   "metadata": {},
   "outputs": [],
   "source": [
    "import os\n"
   ]
  },
  {
   "cell_type": "code",
   "execution_count": 11,
   "metadata": {},
   "outputs": [],
   "source": [
    "# Set the directory where the dataset is located\n",
    "# data_dir = os.getcwd()  # or the specific path where your dataset is located\n",
    "# data_dir = os.path.join(data_dir, \"results\\\\dataset-1\")\n"
   ]
  },
  {
   "cell_type": "code",
   "execution_count": 12,
   "metadata": {},
   "outputs": [],
   "source": [
    "#data_dir = \"D:\\\\Sre\\\\BNNetSimulator-main-1\\\\Cat\\\\results\\\\test-set\"\n",
    "data_dir = \"D:\\\\Sre\\\\Final\\\\BNNetSimulator-main-1\\\\Cat\\\\results\\\\test-set\""
   ]
  },
  {
   "cell_type": "code",
   "execution_count": 13,
   "metadata": {},
   "outputs": [
    {
     "data": {
      "text/plain": [
       "'D:\\\\Sre\\\\Final\\\\BNNetSimulator-main-1\\\\Cat\\\\results\\\\test-set'"
      ]
     },
     "execution_count": 13,
     "metadata": {},
     "output_type": "execute_result"
    }
   ],
   "source": [
    "data_dir"
   ]
  },
  {
   "cell_type": "code",
   "execution_count": 14,
   "metadata": {},
   "outputs": [
    {
     "name": "stdout",
     "output_type": "stream",
     "text": [
      "Requirement already satisfied: numpy in c:\\users\\devyash\\appdata\\local\\programs\\python\\python310\\lib\\site-packages (1.25.0)\n",
      "Note: you may need to restart the kernel to use updated packages.\n"
     ]
    }
   ],
   "source": [
    "pip install numpy\n"
   ]
  },
  {
   "cell_type": "code",
   "execution_count": 15,
   "metadata": {},
   "outputs": [],
   "source": [
    "from datanetAPI import DatanetAPI\n"
   ]
  },
  {
   "cell_type": "code",
   "execution_count": 16,
   "metadata": {},
   "outputs": [],
   "source": [
    "tool = DatanetAPI(data_dir)"
   ]
  },
  {
   "cell_type": "code",
   "execution_count": 17,
   "metadata": {},
   "outputs": [
    {
     "name": "stdout",
     "output_type": "stream",
     "text": [
      "0.017654\n",
      "0.016733\n",
      "0.016446\n",
      "0.018313\n",
      "0.017302\n",
      "0.019497\n",
      "0.018147\n",
      "0.017909\n",
      "0.020161\n",
      "0.017654\n",
      "0.020343\n",
      "0.016733\n",
      "0.018313\n",
      "0.016446\n",
      "0.017302\n",
      "0.019497\n",
      "0.018147\n",
      "0.017909\n",
      "0.020161\n",
      "0.020343\n",
      "0.020343\n",
      "0.016733\n",
      "0.018313\n",
      "0.016446\n",
      "0.017302\n",
      "0.018147\n",
      "0.019497\n",
      "0.017909\n",
      "0.020161\n",
      "0.017654\n",
      "0.017654\n",
      "0.016733\n",
      "0.018313\n",
      "0.016446\n",
      "0.017302\n",
      "0.018147\n",
      "0.019497\n",
      "0.017909\n",
      "0.020161\n",
      "0.017654\n",
      "0.020343\n",
      "0.016733\n",
      "0.018313\n",
      "0.016446\n",
      "0.017302\n",
      "0.018147\n",
      "0.019497\n",
      "0.017909\n",
      "0.020161\n",
      "0.017654\n",
      "0.020343\n",
      "0.016733\n",
      "0.018313\n",
      "0.016446\n",
      "0.017302\n",
      "0.018147\n",
      "0.019497\n",
      "0.017909\n",
      "0.020161\n",
      "0.017654\n",
      "0.020343\n",
      "0.016733\n",
      "0.018313\n",
      "0.016446\n",
      "0.017302\n",
      "0.018147\n",
      "0.019497\n",
      "0.017909\n",
      "0.020161\n",
      "0.017654\n",
      "0.020343\n",
      "0.016733\n",
      "0.018313\n",
      "0.016446\n",
      "0.017302\n",
      "0.018147\n",
      "0.019497\n",
      "0.017909\n",
      "0.020161\n",
      "0.020343\n",
      "0.017654\n",
      "0.016733\n",
      "0.018313\n",
      "0.016446\n",
      "0.017302\n",
      "0.018147\n",
      "0.019497\n",
      "0.017909\n",
      "0.020161\n",
      "0.017654\n",
      "0.020343\n",
      "0.018313\n",
      "0.016733\n",
      "0.016446\n",
      "0.017302\n",
      "0.018147\n",
      "0.019497\n",
      "0.017909\n",
      "0.020161\n",
      "0.020343\n",
      "0.017654\n",
      "0.018313\n",
      "0.016733\n",
      "0.016446\n",
      "0.018147\n",
      "0.017302\n",
      "0.019497\n",
      "0.017909\n",
      "0.020161\n",
      "0.017654\n",
      "0.020343\n",
      "0.016733\n",
      "0.018313\n",
      "0.016446\n",
      "0.017302\n",
      "0.018147\n",
      "0.019497\n",
      "0.017909\n",
      "0.020161\n",
      "0.020343\n",
      "0.020343\n",
      "0.016733\n",
      "0.018313\n",
      "0.016446\n",
      "0.019497\n",
      "0.017302\n",
      "0.018147\n",
      "0.017909\n",
      "0.020161\n",
      "0.020343\n",
      "0.017654\n",
      "0.016733\n",
      "0.018313\n",
      "0.016446\n",
      "0.017302\n",
      "0.019497\n",
      "0.018147\n",
      "0.017909\n",
      "0.020161\n",
      "0.017654\n",
      "0.020343\n",
      "0.016733\n",
      "0.018313\n",
      "0.016446\n",
      "0.017302\n",
      "0.019497\n",
      "0.018147\n",
      "0.017909\n",
      "0.020161\n",
      "0.017654\n",
      "0.020343\n",
      "0.016733\n",
      "0.018313\n",
      "0.016446\n",
      "0.017302\n",
      "0.019497\n",
      "0.018147\n",
      "0.017909\n",
      "0.020161\n",
      "0.017654\n",
      "0.020343\n",
      "0.016733\n",
      "0.018313\n",
      "0.016446\n",
      "0.017302\n",
      "0.019497\n",
      "0.018147\n",
      "0.017909\n",
      "0.020161\n",
      "0.017654\n",
      "0.020343\n",
      "0.016733\n",
      "0.018313\n",
      "0.016446\n",
      "0.017302\n",
      "0.019497\n",
      "0.018147\n",
      "0.017909\n",
      "0.020161\n",
      "0.020343\n",
      "0.017654\n",
      "0.016733\n",
      "0.018313\n",
      "0.016446\n",
      "0.017302\n",
      "0.018147\n",
      "0.019497\n",
      "0.017909\n",
      "0.020161\n",
      "0.020343\n",
      "0.017654\n",
      "0.016733\n",
      "0.018313\n",
      "0.016446\n",
      "0.017302\n",
      "0.018147\n",
      "0.019497\n",
      "0.017909\n",
      "0.020161\n",
      "0.017654\n"
     ]
    }
   ],
   "source": [
    "for sample in iter(tool):\n",
    "    print(sample.get_global_delay())"
   ]
  },
  {
   "cell_type": "code",
   "execution_count": null,
   "metadata": {},
   "outputs": [],
   "source": []
  },
  {
   "cell_type": "code",
   "execution_count": null,
   "metadata": {},
   "outputs": [],
   "source": []
  },
  {
   "cell_type": "code",
   "execution_count": null,
   "metadata": {},
   "outputs": [],
   "source": []
  }
 ],
 "metadata": {
  "kernelspec": {
   "display_name": "Python 3",
   "language": "python",
   "name": "python3"
  },
  "language_info": {
   "codemirror_mode": {
    "name": "ipython",
    "version": 3
   },
   "file_extension": ".py",
   "mimetype": "text/x-python",
   "name": "python",
   "nbconvert_exporter": "python",
   "pygments_lexer": "ipython3",
   "version": "3.10.6"
  }
 },
 "nbformat": 4,
 "nbformat_minor": 2
}
