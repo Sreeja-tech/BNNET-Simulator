{
 "cells": [
  {
   "cell_type": "code",
   "execution_count": 1,
   "metadata": {},
   "outputs": [],
   "source": [
    "import os\n"
   ]
  },
  {
   "cell_type": "code",
   "execution_count": 2,
   "metadata": {},
   "outputs": [],
   "source": [
    "# Set the directory where the dataset is located\n",
    "# data_dir = os.getcwd()  # or the specific path where your dataset is located\n",
    "# data_dir = os.path.join(data_dir, \"results\\\\dataset-1\")\n"
   ]
  },
  {
   "cell_type": "code",
   "execution_count": 3,
   "metadata": {},
   "outputs": [],
   "source": [
    "# data_dir = \"C:\\\\Users\\\\SREEJA\\\\BNNetSimulator-main\\\\Cat\\\\results\\\\test-set\"\n",
    "data_dir = \"D:\\\\Sre\\\\BNNetSimulator-main-1\\\\Cat\\\\results\\\\test-set\""
   ]
  },
  {
   "cell_type": "code",
   "execution_count": 4,
   "metadata": {},
   "outputs": [
    {
     "data": {
      "text/plain": [
       "'D:\\\\Sre\\\\BNNetSimulator-main-1\\\\Cat\\\\results\\\\test-set'"
      ]
     },
     "execution_count": 4,
     "metadata": {},
     "output_type": "execute_result"
    }
   ],
   "source": [
    "data_dir"
   ]
  },
  {
   "cell_type": "code",
   "execution_count": 5,
   "metadata": {},
   "outputs": [
    {
     "name": "stdout",
     "output_type": "stream",
     "text": [
      "Requirement already satisfied: numpy in c:\\users\\devyash\\appdata\\local\\programs\\python\\python310\\lib\\site-packages (1.25.0)\n",
      "Note: you may need to restart the kernel to use updated packages.\n"
     ]
    }
   ],
   "source": [
    "pip install numpy\n"
   ]
  },
  {
   "cell_type": "code",
   "execution_count": 6,
   "metadata": {},
   "outputs": [],
   "source": [
    "from datanetAPI import DatanetAPI\n"
   ]
  },
  {
   "cell_type": "code",
   "execution_count": 7,
   "metadata": {},
   "outputs": [],
   "source": [
    "tool = DatanetAPI(data_dir)"
   ]
  },
  {
   "cell_type": "code",
   "execution_count": 8,
   "metadata": {},
   "outputs": [
    {
     "name": "stdout",
     "output_type": "stream",
     "text": [
      "0.013072\n",
      "0.013864\n",
      "0.014351\n",
      "0.013295\n",
      "0.012672\n",
      "0.015155\n",
      "0.015153\n",
      "0.013961\n",
      "0.014433\n",
      "0.014786\n",
      "0.013072\n",
      "0.012672\n",
      "0.014351\n",
      "0.013295\n",
      "0.013864\n",
      "0.015155\n",
      "0.015153\n",
      "0.013961\n",
      "0.014433\n",
      "0.014786\n",
      "0.013072\n",
      "0.012672\n",
      "0.013295\n",
      "0.014351\n",
      "0.013864\n",
      "0.015155\n",
      "0.015153\n",
      "0.013961\n",
      "0.014433\n",
      "0.014786\n",
      "0.013072\n",
      "0.012672\n",
      "0.014351\n",
      "0.013295\n",
      "0.013864\n",
      "0.015155\n",
      "0.015153\n",
      "0.013961\n",
      "0.014433\n",
      "0.014786\n",
      "0.013072\n",
      "0.012672\n",
      "0.014351\n",
      "0.013295\n",
      "0.013864\n",
      "0.015155\n",
      "0.015153\n",
      "0.013961\n",
      "0.014433\n",
      "0.014786\n",
      "0.012672\n",
      "0.013072\n",
      "0.013295\n",
      "0.014351\n",
      "0.013864\n",
      "0.015155\n",
      "0.015153\n",
      "0.013961\n",
      "0.014433\n",
      "0.014786\n",
      "0.013072\n",
      "0.012672\n",
      "0.014351\n",
      "0.013295\n",
      "0.013864\n",
      "0.015155\n",
      "0.015153\n",
      "0.013961\n",
      "0.014433\n",
      "0.014786\n",
      "0.013072\n",
      "0.012672\n",
      "0.014351\n",
      "0.013295\n",
      "0.013864\n",
      "0.015155\n",
      "0.015153\n",
      "0.013961\n",
      "0.014433\n",
      "0.014786\n",
      "0.013072\n",
      "0.012672\n",
      "0.014351\n",
      "0.013295\n",
      "0.013864\n",
      "0.015153\n",
      "0.015155\n",
      "0.013961\n",
      "0.014433\n",
      "0.014786\n",
      "0.013072\n",
      "0.012672\n",
      "0.014351\n",
      "0.013295\n",
      "0.013864\n",
      "0.015153\n",
      "0.015155\n",
      "0.013961\n",
      "0.014433\n",
      "0.014786\n",
      "0.013072\n",
      "0.012672\n",
      "0.014351\n",
      "0.013295\n",
      "0.013864\n",
      "0.015155\n",
      "0.015153\n",
      "0.013961\n",
      "0.014433\n",
      "0.014786\n",
      "0.013072\n",
      "0.012672\n",
      "0.014351\n",
      "0.013295\n",
      "0.013864\n",
      "0.015153\n",
      "0.015155\n",
      "0.013961\n",
      "0.014433\n",
      "0.014786\n",
      "0.013072\n",
      "0.012672\n",
      "0.014351\n",
      "0.013295\n",
      "0.013864\n",
      "0.015155\n",
      "0.015153\n",
      "0.013961\n",
      "0.014433\n",
      "0.014786\n",
      "0.012672\n",
      "0.013072\n",
      "0.014351\n",
      "0.013864\n",
      "0.013295\n",
      "0.015155\n",
      "0.015153\n",
      "0.013961\n",
      "0.014433\n",
      "0.014786\n",
      "0.013072\n",
      "0.012672\n",
      "0.014351\n",
      "0.013295\n",
      "0.013864\n",
      "0.015155\n",
      "0.015153\n",
      "0.013961\n",
      "0.014433\n",
      "0.014786\n",
      "0.013072\n",
      "0.012672\n",
      "0.014351\n",
      "0.013295\n",
      "0.015155\n",
      "0.013864\n",
      "0.015153\n",
      "0.013961\n",
      "0.014433\n",
      "0.014786\n",
      "0.013072\n",
      "0.012672\n",
      "0.014351\n",
      "0.013295\n",
      "0.013864\n",
      "0.015155\n",
      "0.015153\n",
      "0.013961\n",
      "0.014433\n",
      "0.014786\n",
      "0.012672\n",
      "0.013072\n",
      "0.014351\n",
      "0.013864\n",
      "0.013295\n",
      "0.015155\n",
      "0.015153\n",
      "0.013961\n",
      "0.014433\n",
      "0.014786\n",
      "0.012672\n",
      "0.013072\n",
      "0.014351\n",
      "0.013295\n",
      "0.013864\n",
      "0.015153\n",
      "0.015155\n",
      "0.013961\n",
      "0.014433\n",
      "0.014786\n",
      "0.012672\n",
      "0.013072\n",
      "0.014351\n",
      "0.013295\n",
      "0.013864\n",
      "0.015155\n",
      "0.015153\n",
      "0.013961\n",
      "0.014433\n",
      "0.014786\n"
     ]
    }
   ],
   "source": [
    "for sample in iter(tool):\n",
    "    print(sample.get_global_delay())"
   ]
  },
  {
   "cell_type": "code",
   "execution_count": null,
   "metadata": {},
   "outputs": [],
   "source": []
  },
  {
   "cell_type": "code",
   "execution_count": null,
   "metadata": {},
   "outputs": [],
   "source": []
  },
  {
   "cell_type": "code",
   "execution_count": null,
   "metadata": {},
   "outputs": [],
   "source": []
  }
 ],
 "metadata": {
  "kernelspec": {
   "display_name": "Python 3",
   "language": "python",
   "name": "python3"
  },
  "language_info": {
   "codemirror_mode": {
    "name": "ipython",
    "version": 3
   },
   "file_extension": ".py",
   "mimetype": "text/x-python",
   "name": "python",
   "nbconvert_exporter": "python",
   "pygments_lexer": "ipython3",
   "version": "3.10.6"
  }
 },
 "nbformat": 4,
 "nbformat_minor": 2
}
